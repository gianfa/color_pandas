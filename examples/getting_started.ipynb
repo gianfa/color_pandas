{
 "cells": [
  {
   "cell_type": "markdown",
   "metadata": {},
   "source": [
    "# Getting started"
   ]
  },
  {
   "cell_type": "markdown",
   "metadata": {},
   "source": [
    "This is a very quick tutorial made for you in order to make the use of this simple tool easy."
   ]
  },
  {
   "cell_type": "markdown",
   "metadata": {},
   "source": [
    "Load the data"
   ]
  },
  {
   "cell_type": "code",
   "execution_count": 2,
   "metadata": {},
   "outputs": [
    {
     "data": {
      "text/html": [
       "<div>\n",
       "<style scoped>\n",
       "    .dataframe tbody tr th:only-of-type {\n",
       "        vertical-align: middle;\n",
       "    }\n",
       "\n",
       "    .dataframe tbody tr th {\n",
       "        vertical-align: top;\n",
       "    }\n",
       "\n",
       "    .dataframe thead th {\n",
       "        text-align: right;\n",
       "    }\n",
       "</style>\n",
       "<table border=\"1\" class=\"dataframe\">\n",
       "  <thead>\n",
       "    <tr style=\"text-align: right;\">\n",
       "      <th></th>\n",
       "      <th>sepal_length</th>\n",
       "      <th>sepal_width</th>\n",
       "      <th>petal_length</th>\n",
       "      <th>petal_width</th>\n",
       "      <th>species</th>\n",
       "    </tr>\n",
       "  </thead>\n",
       "  <tbody>\n",
       "    <tr>\n",
       "      <th>0</th>\n",
       "      <td>5.1</td>\n",
       "      <td>3.5</td>\n",
       "      <td>1.4</td>\n",
       "      <td>0.2</td>\n",
       "      <td>setosa</td>\n",
       "    </tr>\n",
       "    <tr>\n",
       "      <th>1</th>\n",
       "      <td>4.9</td>\n",
       "      <td>3.0</td>\n",
       "      <td>1.4</td>\n",
       "      <td>0.2</td>\n",
       "      <td>setosa</td>\n",
       "    </tr>\n",
       "    <tr>\n",
       "      <th>2</th>\n",
       "      <td>4.7</td>\n",
       "      <td>3.2</td>\n",
       "      <td>1.3</td>\n",
       "      <td>0.2</td>\n",
       "      <td>setosa</td>\n",
       "    </tr>\n",
       "    <tr>\n",
       "      <th>3</th>\n",
       "      <td>4.6</td>\n",
       "      <td>3.1</td>\n",
       "      <td>1.5</td>\n",
       "      <td>0.2</td>\n",
       "      <td>setosa</td>\n",
       "    </tr>\n",
       "    <tr>\n",
       "      <th>4</th>\n",
       "      <td>5.0</td>\n",
       "      <td>3.6</td>\n",
       "      <td>1.4</td>\n",
       "      <td>0.2</td>\n",
       "      <td>setosa</td>\n",
       "    </tr>\n",
       "  </tbody>\n",
       "</table>\n",
       "</div>"
      ],
      "text/plain": [
       "   sepal_length  sepal_width  petal_length  petal_width species\n",
       "0           5.1          3.5           1.4          0.2  setosa\n",
       "1           4.9          3.0           1.4          0.2  setosa\n",
       "2           4.7          3.2           1.3          0.2  setosa\n",
       "3           4.6          3.1           1.5          0.2  setosa\n",
       "4           5.0          3.6           1.4          0.2  setosa"
      ]
     },
     "execution_count": 2,
     "metadata": {},
     "output_type": "execute_result"
    }
   ],
   "source": [
    "import pandas as pd\n",
    "import seaborn as sns # We'll load a dataset from it\n",
    "\n",
    "df = sns.load_dataset('iris')\n",
    "df.head(5)"
   ]
  },
  {
   "cell_type": "markdown",
   "metadata": {},
   "source": [
    "Import `ColorPandas`, in order to make it accessible from all your dataframes."
   ]
  },
  {
   "cell_type": "code",
   "execution_count": 3,
   "metadata": {},
   "outputs": [],
   "source": [
    "from color_pandas.colorizer import ColorPandas"
   ]
  },
  {
   "cell_type": "markdown",
   "metadata": {},
   "source": [
    "### Highlighting a single cell\n"
   ]
  },
  {
   "cell_type": "markdown",
   "metadata": {},
   "source": [
    "When you just want to highlight some cells, you just want to indicate which ones and don't think about the rest.\n",
    "\n",
    "The syntax is:  \n",
    "`df.colorizer.highlight_at(COLUMN_NAME, CELL_ID)`"
   ]
  },
  {
   "cell_type": "code",
   "execution_count": 4,
   "metadata": {},
   "outputs": [
    {
     "data": {
      "text/html": [
       "<style  type=\"text/css\" >\n",
       "#T_4bb6a_row4_col0{\n",
       "            background-color:  rgb(245, 197, 66);\n",
       "             color: black;\n",
       "        }</style><table id=\"T_4bb6a_\" ><thead>    <tr>        <th class=\"blank level0\" ></th>        <th class=\"col_heading level0 col0\" >sepal_length</th>        <th class=\"col_heading level0 col1\" >sepal_width</th>        <th class=\"col_heading level0 col2\" >petal_length</th>        <th class=\"col_heading level0 col3\" >petal_width</th>        <th class=\"col_heading level0 col4\" >species</th>    </tr></thead><tbody>\n",
       "                <tr>\n",
       "                        <th id=\"T_4bb6a_level0_row0\" class=\"row_heading level0 row0\" >0</th>\n",
       "                        <td id=\"T_4bb6a_row0_col0\" class=\"data row0 col0\" >5.100000</td>\n",
       "                        <td id=\"T_4bb6a_row0_col1\" class=\"data row0 col1\" >3.500000</td>\n",
       "                        <td id=\"T_4bb6a_row0_col2\" class=\"data row0 col2\" >1.400000</td>\n",
       "                        <td id=\"T_4bb6a_row0_col3\" class=\"data row0 col3\" >0.200000</td>\n",
       "                        <td id=\"T_4bb6a_row0_col4\" class=\"data row0 col4\" >setosa</td>\n",
       "            </tr>\n",
       "            <tr>\n",
       "                        <th id=\"T_4bb6a_level0_row1\" class=\"row_heading level0 row1\" >1</th>\n",
       "                        <td id=\"T_4bb6a_row1_col0\" class=\"data row1 col0\" >4.900000</td>\n",
       "                        <td id=\"T_4bb6a_row1_col1\" class=\"data row1 col1\" >3.000000</td>\n",
       "                        <td id=\"T_4bb6a_row1_col2\" class=\"data row1 col2\" >1.400000</td>\n",
       "                        <td id=\"T_4bb6a_row1_col3\" class=\"data row1 col3\" >0.200000</td>\n",
       "                        <td id=\"T_4bb6a_row1_col4\" class=\"data row1 col4\" >setosa</td>\n",
       "            </tr>\n",
       "            <tr>\n",
       "                        <th id=\"T_4bb6a_level0_row2\" class=\"row_heading level0 row2\" >2</th>\n",
       "                        <td id=\"T_4bb6a_row2_col0\" class=\"data row2 col0\" >4.700000</td>\n",
       "                        <td id=\"T_4bb6a_row2_col1\" class=\"data row2 col1\" >3.200000</td>\n",
       "                        <td id=\"T_4bb6a_row2_col2\" class=\"data row2 col2\" >1.300000</td>\n",
       "                        <td id=\"T_4bb6a_row2_col3\" class=\"data row2 col3\" >0.200000</td>\n",
       "                        <td id=\"T_4bb6a_row2_col4\" class=\"data row2 col4\" >setosa</td>\n",
       "            </tr>\n",
       "            <tr>\n",
       "                        <th id=\"T_4bb6a_level0_row3\" class=\"row_heading level0 row3\" >3</th>\n",
       "                        <td id=\"T_4bb6a_row3_col0\" class=\"data row3 col0\" >4.600000</td>\n",
       "                        <td id=\"T_4bb6a_row3_col1\" class=\"data row3 col1\" >3.100000</td>\n",
       "                        <td id=\"T_4bb6a_row3_col2\" class=\"data row3 col2\" >1.500000</td>\n",
       "                        <td id=\"T_4bb6a_row3_col3\" class=\"data row3 col3\" >0.200000</td>\n",
       "                        <td id=\"T_4bb6a_row3_col4\" class=\"data row3 col4\" >setosa</td>\n",
       "            </tr>\n",
       "            <tr>\n",
       "                        <th id=\"T_4bb6a_level0_row4\" class=\"row_heading level0 row4\" >4</th>\n",
       "                        <td id=\"T_4bb6a_row4_col0\" class=\"data row4 col0\" >5.000000</td>\n",
       "                        <td id=\"T_4bb6a_row4_col1\" class=\"data row4 col1\" >3.600000</td>\n",
       "                        <td id=\"T_4bb6a_row4_col2\" class=\"data row4 col2\" >1.400000</td>\n",
       "                        <td id=\"T_4bb6a_row4_col3\" class=\"data row4 col3\" >0.200000</td>\n",
       "                        <td id=\"T_4bb6a_row4_col4\" class=\"data row4 col4\" >setosa</td>\n",
       "            </tr>\n",
       "    </tbody></table>"
      ],
      "text/plain": [
       "<pandas.io.formats.style.Styler at 0x7f98d6e4edc0>"
      ]
     },
     "execution_count": 4,
     "metadata": {},
     "output_type": "execute_result"
    }
   ],
   "source": [
    "df[:5].colorizer.highlight_at('sepal_length', 4)"
   ]
  },
  {
   "cell_type": "markdown",
   "metadata": {},
   "source": [
    "#### What's in the result"
   ]
  },
  {
   "cell_type": "markdown",
   "metadata": {},
   "source": [
    "Keep in mind that ColorPandas rests on [`Pandas Style API`](https://pandas.pydata.org/pandas-docs/stable/user_guide/style.html), so as a result it will always return a [Styler](https://pandas.pydata.org/pandas-docs/stable/reference/api/pandas.io.formats.style.Styler.html?highlight=styler#pandas.io.formats.style.Styler) object. You can still retrieve the original data using the .data attribute, as shown below."
   ]
  },
  {
   "cell_type": "code",
   "execution_count": 5,
   "metadata": {},
   "outputs": [
    {
     "name": "stdout",
     "output_type": "stream",
     "text": [
      "<class 'pandas.io.formats.style.Styler'>\n"
     ]
    },
    {
     "data": {
      "text/html": [
       "<style  type=\"text/css\" >\n",
       "#T_57c9e_row4_col0{\n",
       "            background-color:  rgb(245, 197, 66);\n",
       "             color: black;\n",
       "        }</style><table id=\"T_57c9e_\" ><thead>    <tr>        <th class=\"blank level0\" ></th>        <th class=\"col_heading level0 col0\" >sepal_length</th>        <th class=\"col_heading level0 col1\" >sepal_width</th>        <th class=\"col_heading level0 col2\" >petal_length</th>        <th class=\"col_heading level0 col3\" >petal_width</th>        <th class=\"col_heading level0 col4\" >species</th>    </tr></thead><tbody>\n",
       "                <tr>\n",
       "                        <th id=\"T_57c9e_level0_row0\" class=\"row_heading level0 row0\" >0</th>\n",
       "                        <td id=\"T_57c9e_row0_col0\" class=\"data row0 col0\" >5.100000</td>\n",
       "                        <td id=\"T_57c9e_row0_col1\" class=\"data row0 col1\" >3.500000</td>\n",
       "                        <td id=\"T_57c9e_row0_col2\" class=\"data row0 col2\" >1.400000</td>\n",
       "                        <td id=\"T_57c9e_row0_col3\" class=\"data row0 col3\" >0.200000</td>\n",
       "                        <td id=\"T_57c9e_row0_col4\" class=\"data row0 col4\" >setosa</td>\n",
       "            </tr>\n",
       "            <tr>\n",
       "                        <th id=\"T_57c9e_level0_row1\" class=\"row_heading level0 row1\" >1</th>\n",
       "                        <td id=\"T_57c9e_row1_col0\" class=\"data row1 col0\" >4.900000</td>\n",
       "                        <td id=\"T_57c9e_row1_col1\" class=\"data row1 col1\" >3.000000</td>\n",
       "                        <td id=\"T_57c9e_row1_col2\" class=\"data row1 col2\" >1.400000</td>\n",
       "                        <td id=\"T_57c9e_row1_col3\" class=\"data row1 col3\" >0.200000</td>\n",
       "                        <td id=\"T_57c9e_row1_col4\" class=\"data row1 col4\" >setosa</td>\n",
       "            </tr>\n",
       "            <tr>\n",
       "                        <th id=\"T_57c9e_level0_row2\" class=\"row_heading level0 row2\" >2</th>\n",
       "                        <td id=\"T_57c9e_row2_col0\" class=\"data row2 col0\" >4.700000</td>\n",
       "                        <td id=\"T_57c9e_row2_col1\" class=\"data row2 col1\" >3.200000</td>\n",
       "                        <td id=\"T_57c9e_row2_col2\" class=\"data row2 col2\" >1.300000</td>\n",
       "                        <td id=\"T_57c9e_row2_col3\" class=\"data row2 col3\" >0.200000</td>\n",
       "                        <td id=\"T_57c9e_row2_col4\" class=\"data row2 col4\" >setosa</td>\n",
       "            </tr>\n",
       "            <tr>\n",
       "                        <th id=\"T_57c9e_level0_row3\" class=\"row_heading level0 row3\" >3</th>\n",
       "                        <td id=\"T_57c9e_row3_col0\" class=\"data row3 col0\" >4.600000</td>\n",
       "                        <td id=\"T_57c9e_row3_col1\" class=\"data row3 col1\" >3.100000</td>\n",
       "                        <td id=\"T_57c9e_row3_col2\" class=\"data row3 col2\" >1.500000</td>\n",
       "                        <td id=\"T_57c9e_row3_col3\" class=\"data row3 col3\" >0.200000</td>\n",
       "                        <td id=\"T_57c9e_row3_col4\" class=\"data row3 col4\" >setosa</td>\n",
       "            </tr>\n",
       "            <tr>\n",
       "                        <th id=\"T_57c9e_level0_row4\" class=\"row_heading level0 row4\" >4</th>\n",
       "                        <td id=\"T_57c9e_row4_col0\" class=\"data row4 col0\" >5.000000</td>\n",
       "                        <td id=\"T_57c9e_row4_col1\" class=\"data row4 col1\" >3.600000</td>\n",
       "                        <td id=\"T_57c9e_row4_col2\" class=\"data row4 col2\" >1.400000</td>\n",
       "                        <td id=\"T_57c9e_row4_col3\" class=\"data row4 col3\" >0.200000</td>\n",
       "                        <td id=\"T_57c9e_row4_col4\" class=\"data row4 col4\" >setosa</td>\n",
       "            </tr>\n",
       "    </tbody></table>"
      ],
      "text/plain": [
       "<pandas.io.formats.style.Styler at 0x7f98d6cb4d30>"
      ]
     },
     "execution_count": 5,
     "metadata": {},
     "output_type": "execute_result"
    }
   ],
   "source": [
    "styled_df = df[:5].colorizer.highlight_at('sepal_length', 4)\n",
    "\n",
    "print(type(styled_df))\n",
    "styled_df"
   ]
  },
  {
   "cell_type": "code",
   "execution_count": 6,
   "metadata": {},
   "outputs": [
    {
     "name": "stdout",
     "output_type": "stream",
     "text": [
      "<class 'pandas.core.frame.DataFrame'>\n"
     ]
    },
    {
     "data": {
      "text/html": [
       "<div>\n",
       "<style scoped>\n",
       "    .dataframe tbody tr th:only-of-type {\n",
       "        vertical-align: middle;\n",
       "    }\n",
       "\n",
       "    .dataframe tbody tr th {\n",
       "        vertical-align: top;\n",
       "    }\n",
       "\n",
       "    .dataframe thead th {\n",
       "        text-align: right;\n",
       "    }\n",
       "</style>\n",
       "<table border=\"1\" class=\"dataframe\">\n",
       "  <thead>\n",
       "    <tr style=\"text-align: right;\">\n",
       "      <th></th>\n",
       "      <th>sepal_length</th>\n",
       "      <th>sepal_width</th>\n",
       "      <th>petal_length</th>\n",
       "      <th>petal_width</th>\n",
       "      <th>species</th>\n",
       "    </tr>\n",
       "  </thead>\n",
       "  <tbody>\n",
       "    <tr>\n",
       "      <th>0</th>\n",
       "      <td>5.1</td>\n",
       "      <td>3.5</td>\n",
       "      <td>1.4</td>\n",
       "      <td>0.2</td>\n",
       "      <td>setosa</td>\n",
       "    </tr>\n",
       "    <tr>\n",
       "      <th>1</th>\n",
       "      <td>4.9</td>\n",
       "      <td>3.0</td>\n",
       "      <td>1.4</td>\n",
       "      <td>0.2</td>\n",
       "      <td>setosa</td>\n",
       "    </tr>\n",
       "    <tr>\n",
       "      <th>2</th>\n",
       "      <td>4.7</td>\n",
       "      <td>3.2</td>\n",
       "      <td>1.3</td>\n",
       "      <td>0.2</td>\n",
       "      <td>setosa</td>\n",
       "    </tr>\n",
       "    <tr>\n",
       "      <th>3</th>\n",
       "      <td>4.6</td>\n",
       "      <td>3.1</td>\n",
       "      <td>1.5</td>\n",
       "      <td>0.2</td>\n",
       "      <td>setosa</td>\n",
       "    </tr>\n",
       "    <tr>\n",
       "      <th>4</th>\n",
       "      <td>5.0</td>\n",
       "      <td>3.6</td>\n",
       "      <td>1.4</td>\n",
       "      <td>0.2</td>\n",
       "      <td>setosa</td>\n",
       "    </tr>\n",
       "  </tbody>\n",
       "</table>\n",
       "</div>"
      ],
      "text/plain": [
       "   sepal_length  sepal_width  petal_length  petal_width species\n",
       "0           5.1          3.5           1.4          0.2  setosa\n",
       "1           4.9          3.0           1.4          0.2  setosa\n",
       "2           4.7          3.2           1.3          0.2  setosa\n",
       "3           4.6          3.1           1.5          0.2  setosa\n",
       "4           5.0          3.6           1.4          0.2  setosa"
      ]
     },
     "execution_count": 6,
     "metadata": {},
     "output_type": "execute_result"
    }
   ],
   "source": [
    "print(type(styled_df.data))\n",
    "styled_df.data"
   ]
  },
  {
   "cell_type": "markdown",
   "metadata": {},
   "source": [
    "### Conditionally Highlighting"
   ]
  },
  {
   "cell_type": "markdown",
   "metadata": {},
   "source": [
    "When you need to highlight cells that meet a specific condition, this function is useful\n",
    "\n",
    "The syntax is:  \n",
    "`df.colorizer.highlight_if(COLUMN_NAME, BOOLEAN_FUNCTION)`"
   ]
  },
  {
   "cell_type": "code",
   "execution_count": 7,
   "metadata": {},
   "outputs": [
    {
     "name": "stdout",
     "output_type": "stream",
     "text": [
      "sepal_length Int64Index([0, 1, 4], dtype='int64')\n"
     ]
    },
    {
     "data": {
      "text/html": [
       "<style  type=\"text/css\" >\n",
       "#T_91248_row0_col0,#T_91248_row1_col0,#T_91248_row4_col0{\n",
       "            background-color:  rgb(245, 197, 66);\n",
       "             color: black;\n",
       "        }</style><table id=\"T_91248_\" ><thead>    <tr>        <th class=\"blank level0\" ></th>        <th class=\"col_heading level0 col0\" >sepal_length</th>        <th class=\"col_heading level0 col1\" >sepal_width</th>        <th class=\"col_heading level0 col2\" >petal_length</th>        <th class=\"col_heading level0 col3\" >petal_width</th>        <th class=\"col_heading level0 col4\" >species</th>    </tr></thead><tbody>\n",
       "                <tr>\n",
       "                        <th id=\"T_91248_level0_row0\" class=\"row_heading level0 row0\" >0</th>\n",
       "                        <td id=\"T_91248_row0_col0\" class=\"data row0 col0\" >5.100000</td>\n",
       "                        <td id=\"T_91248_row0_col1\" class=\"data row0 col1\" >3.500000</td>\n",
       "                        <td id=\"T_91248_row0_col2\" class=\"data row0 col2\" >1.400000</td>\n",
       "                        <td id=\"T_91248_row0_col3\" class=\"data row0 col3\" >0.200000</td>\n",
       "                        <td id=\"T_91248_row0_col4\" class=\"data row0 col4\" >setosa</td>\n",
       "            </tr>\n",
       "            <tr>\n",
       "                        <th id=\"T_91248_level0_row1\" class=\"row_heading level0 row1\" >1</th>\n",
       "                        <td id=\"T_91248_row1_col0\" class=\"data row1 col0\" >4.900000</td>\n",
       "                        <td id=\"T_91248_row1_col1\" class=\"data row1 col1\" >3.000000</td>\n",
       "                        <td id=\"T_91248_row1_col2\" class=\"data row1 col2\" >1.400000</td>\n",
       "                        <td id=\"T_91248_row1_col3\" class=\"data row1 col3\" >0.200000</td>\n",
       "                        <td id=\"T_91248_row1_col4\" class=\"data row1 col4\" >setosa</td>\n",
       "            </tr>\n",
       "            <tr>\n",
       "                        <th id=\"T_91248_level0_row2\" class=\"row_heading level0 row2\" >2</th>\n",
       "                        <td id=\"T_91248_row2_col0\" class=\"data row2 col0\" >4.700000</td>\n",
       "                        <td id=\"T_91248_row2_col1\" class=\"data row2 col1\" >3.200000</td>\n",
       "                        <td id=\"T_91248_row2_col2\" class=\"data row2 col2\" >1.300000</td>\n",
       "                        <td id=\"T_91248_row2_col3\" class=\"data row2 col3\" >0.200000</td>\n",
       "                        <td id=\"T_91248_row2_col4\" class=\"data row2 col4\" >setosa</td>\n",
       "            </tr>\n",
       "            <tr>\n",
       "                        <th id=\"T_91248_level0_row3\" class=\"row_heading level0 row3\" >3</th>\n",
       "                        <td id=\"T_91248_row3_col0\" class=\"data row3 col0\" >4.600000</td>\n",
       "                        <td id=\"T_91248_row3_col1\" class=\"data row3 col1\" >3.100000</td>\n",
       "                        <td id=\"T_91248_row3_col2\" class=\"data row3 col2\" >1.500000</td>\n",
       "                        <td id=\"T_91248_row3_col3\" class=\"data row3 col3\" >0.200000</td>\n",
       "                        <td id=\"T_91248_row3_col4\" class=\"data row3 col4\" >setosa</td>\n",
       "            </tr>\n",
       "            <tr>\n",
       "                        <th id=\"T_91248_level0_row4\" class=\"row_heading level0 row4\" >4</th>\n",
       "                        <td id=\"T_91248_row4_col0\" class=\"data row4 col0\" >5.000000</td>\n",
       "                        <td id=\"T_91248_row4_col1\" class=\"data row4 col1\" >3.600000</td>\n",
       "                        <td id=\"T_91248_row4_col2\" class=\"data row4 col2\" >1.400000</td>\n",
       "                        <td id=\"T_91248_row4_col3\" class=\"data row4 col3\" >0.200000</td>\n",
       "                        <td id=\"T_91248_row4_col4\" class=\"data row4 col4\" >setosa</td>\n",
       "            </tr>\n",
       "    </tbody></table>"
      ],
      "text/plain": [
       "<pandas.io.formats.style.Styler at 0x7f9901839040>"
      ]
     },
     "execution_count": 7,
     "metadata": {},
     "output_type": "execute_result"
    }
   ],
   "source": [
    "df[:5].colorizer.highlight_if('sepal_length', lambda x: x>4.7)"
   ]
  },
  {
   "cell_type": "markdown",
   "metadata": {},
   "source": [
    "## More Styling\n",
    "If you want to spend a little more time specifying precisely the appearance of a cell or a group of cells, the following functions are for you"
   ]
  },
  {
   "cell_type": "markdown",
   "metadata": {},
   "source": [
    "### Styling a single cell"
   ]
  },
  {
   "cell_type": "markdown",
   "metadata": {},
   "source": [
    "In this case we will provide a string of [CSS](https://en.wikipedia.org/wiki/CSS), in which we specify the style parameters that we want to apply to the cell.\n",
    "\n",
    "The syntax is:  \n",
    "`df.colorizer.style_at(COLUMN_NAME, ID, CSS_STRING)`"
   ]
  },
  {
   "cell_type": "code",
   "execution_count": 8,
   "metadata": {},
   "outputs": [
    {
     "data": {
      "text/html": [
       "<style  type=\"text/css\" >\n",
       "#T_7cc23_row4_col0{\n",
       "            background-color:  rgb(1, 203, 20);\n",
       "             color:  black;\n",
       "        }</style><table id=\"T_7cc23_\" ><thead>    <tr>        <th class=\"blank level0\" ></th>        <th class=\"col_heading level0 col0\" >sepal_length</th>        <th class=\"col_heading level0 col1\" >sepal_width</th>        <th class=\"col_heading level0 col2\" >petal_length</th>        <th class=\"col_heading level0 col3\" >petal_width</th>        <th class=\"col_heading level0 col4\" >species</th>    </tr></thead><tbody>\n",
       "                <tr>\n",
       "                        <th id=\"T_7cc23_level0_row0\" class=\"row_heading level0 row0\" >0</th>\n",
       "                        <td id=\"T_7cc23_row0_col0\" class=\"data row0 col0\" >5.100000</td>\n",
       "                        <td id=\"T_7cc23_row0_col1\" class=\"data row0 col1\" >3.500000</td>\n",
       "                        <td id=\"T_7cc23_row0_col2\" class=\"data row0 col2\" >1.400000</td>\n",
       "                        <td id=\"T_7cc23_row0_col3\" class=\"data row0 col3\" >0.200000</td>\n",
       "                        <td id=\"T_7cc23_row0_col4\" class=\"data row0 col4\" >setosa</td>\n",
       "            </tr>\n",
       "            <tr>\n",
       "                        <th id=\"T_7cc23_level0_row1\" class=\"row_heading level0 row1\" >1</th>\n",
       "                        <td id=\"T_7cc23_row1_col0\" class=\"data row1 col0\" >4.900000</td>\n",
       "                        <td id=\"T_7cc23_row1_col1\" class=\"data row1 col1\" >3.000000</td>\n",
       "                        <td id=\"T_7cc23_row1_col2\" class=\"data row1 col2\" >1.400000</td>\n",
       "                        <td id=\"T_7cc23_row1_col3\" class=\"data row1 col3\" >0.200000</td>\n",
       "                        <td id=\"T_7cc23_row1_col4\" class=\"data row1 col4\" >setosa</td>\n",
       "            </tr>\n",
       "            <tr>\n",
       "                        <th id=\"T_7cc23_level0_row2\" class=\"row_heading level0 row2\" >2</th>\n",
       "                        <td id=\"T_7cc23_row2_col0\" class=\"data row2 col0\" >4.700000</td>\n",
       "                        <td id=\"T_7cc23_row2_col1\" class=\"data row2 col1\" >3.200000</td>\n",
       "                        <td id=\"T_7cc23_row2_col2\" class=\"data row2 col2\" >1.300000</td>\n",
       "                        <td id=\"T_7cc23_row2_col3\" class=\"data row2 col3\" >0.200000</td>\n",
       "                        <td id=\"T_7cc23_row2_col4\" class=\"data row2 col4\" >setosa</td>\n",
       "            </tr>\n",
       "            <tr>\n",
       "                        <th id=\"T_7cc23_level0_row3\" class=\"row_heading level0 row3\" >3</th>\n",
       "                        <td id=\"T_7cc23_row3_col0\" class=\"data row3 col0\" >4.600000</td>\n",
       "                        <td id=\"T_7cc23_row3_col1\" class=\"data row3 col1\" >3.100000</td>\n",
       "                        <td id=\"T_7cc23_row3_col2\" class=\"data row3 col2\" >1.500000</td>\n",
       "                        <td id=\"T_7cc23_row3_col3\" class=\"data row3 col3\" >0.200000</td>\n",
       "                        <td id=\"T_7cc23_row3_col4\" class=\"data row3 col4\" >setosa</td>\n",
       "            </tr>\n",
       "            <tr>\n",
       "                        <th id=\"T_7cc23_level0_row4\" class=\"row_heading level0 row4\" >4</th>\n",
       "                        <td id=\"T_7cc23_row4_col0\" class=\"data row4 col0\" >5.000000</td>\n",
       "                        <td id=\"T_7cc23_row4_col1\" class=\"data row4 col1\" >3.600000</td>\n",
       "                        <td id=\"T_7cc23_row4_col2\" class=\"data row4 col2\" >1.400000</td>\n",
       "                        <td id=\"T_7cc23_row4_col3\" class=\"data row4 col3\" >0.200000</td>\n",
       "                        <td id=\"T_7cc23_row4_col4\" class=\"data row4 col4\" >setosa</td>\n",
       "            </tr>\n",
       "    </tbody></table>"
      ],
      "text/plain": [
       "<pandas.io.formats.style.Styler at 0x7f98d6cb4280>"
      ]
     },
     "execution_count": 8,
     "metadata": {},
     "output_type": "execute_result"
    }
   ],
   "source": [
    "css = 'background-color: rgb(1, 203, 20); color: black'\n",
    "df[:5].colorizer.style_at('sepal_length', 4, css)"
   ]
  },
  {
   "cell_type": "markdown",
   "metadata": {},
   "source": [
    "### <div id='style_if'>Conditionally styling a single or a group of cells</div>"
   ]
  },
  {
   "cell_type": "markdown",
   "metadata": {},
   "source": [
    "In this case we will provide a string of [CSS](https://en.wikipedia.org/wiki/CSS), in which we specify the style parameters that we want to apply to the cells, along with a condition to select them.\n",
    "\n",
    "The syntax is:  \n",
    "`df.colorizer.style_if(COLUMN_NAME, BOOLEAN_FUNCTION, CSS_STRING)`"
   ]
  },
  {
   "cell_type": "code",
   "execution_count": 9,
   "metadata": {},
   "outputs": [
    {
     "name": "stdout",
     "output_type": "stream",
     "text": [
      "sepal_length Int64Index([0, 1, 4], dtype='int64')\n"
     ]
    },
    {
     "data": {
      "text/html": [
       "<style  type=\"text/css\" >\n",
       "#T_4c33d_row0_col0,#T_4c33d_row1_col0,#T_4c33d_row4_col0{\n",
       "            background-color:  red;\n",
       "             color:  black;\n",
       "        }</style><table id=\"T_4c33d_\" ><thead>    <tr>        <th class=\"blank level0\" ></th>        <th class=\"col_heading level0 col0\" >sepal_length</th>        <th class=\"col_heading level0 col1\" >sepal_width</th>        <th class=\"col_heading level0 col2\" >petal_length</th>        <th class=\"col_heading level0 col3\" >petal_width</th>        <th class=\"col_heading level0 col4\" >species</th>    </tr></thead><tbody>\n",
       "                <tr>\n",
       "                        <th id=\"T_4c33d_level0_row0\" class=\"row_heading level0 row0\" >0</th>\n",
       "                        <td id=\"T_4c33d_row0_col0\" class=\"data row0 col0\" >5.100000</td>\n",
       "                        <td id=\"T_4c33d_row0_col1\" class=\"data row0 col1\" >3.500000</td>\n",
       "                        <td id=\"T_4c33d_row0_col2\" class=\"data row0 col2\" >1.400000</td>\n",
       "                        <td id=\"T_4c33d_row0_col3\" class=\"data row0 col3\" >0.200000</td>\n",
       "                        <td id=\"T_4c33d_row0_col4\" class=\"data row0 col4\" >setosa</td>\n",
       "            </tr>\n",
       "            <tr>\n",
       "                        <th id=\"T_4c33d_level0_row1\" class=\"row_heading level0 row1\" >1</th>\n",
       "                        <td id=\"T_4c33d_row1_col0\" class=\"data row1 col0\" >4.900000</td>\n",
       "                        <td id=\"T_4c33d_row1_col1\" class=\"data row1 col1\" >3.000000</td>\n",
       "                        <td id=\"T_4c33d_row1_col2\" class=\"data row1 col2\" >1.400000</td>\n",
       "                        <td id=\"T_4c33d_row1_col3\" class=\"data row1 col3\" >0.200000</td>\n",
       "                        <td id=\"T_4c33d_row1_col4\" class=\"data row1 col4\" >setosa</td>\n",
       "            </tr>\n",
       "            <tr>\n",
       "                        <th id=\"T_4c33d_level0_row2\" class=\"row_heading level0 row2\" >2</th>\n",
       "                        <td id=\"T_4c33d_row2_col0\" class=\"data row2 col0\" >4.700000</td>\n",
       "                        <td id=\"T_4c33d_row2_col1\" class=\"data row2 col1\" >3.200000</td>\n",
       "                        <td id=\"T_4c33d_row2_col2\" class=\"data row2 col2\" >1.300000</td>\n",
       "                        <td id=\"T_4c33d_row2_col3\" class=\"data row2 col3\" >0.200000</td>\n",
       "                        <td id=\"T_4c33d_row2_col4\" class=\"data row2 col4\" >setosa</td>\n",
       "            </tr>\n",
       "            <tr>\n",
       "                        <th id=\"T_4c33d_level0_row3\" class=\"row_heading level0 row3\" >3</th>\n",
       "                        <td id=\"T_4c33d_row3_col0\" class=\"data row3 col0\" >4.600000</td>\n",
       "                        <td id=\"T_4c33d_row3_col1\" class=\"data row3 col1\" >3.100000</td>\n",
       "                        <td id=\"T_4c33d_row3_col2\" class=\"data row3 col2\" >1.500000</td>\n",
       "                        <td id=\"T_4c33d_row3_col3\" class=\"data row3 col3\" >0.200000</td>\n",
       "                        <td id=\"T_4c33d_row3_col4\" class=\"data row3 col4\" >setosa</td>\n",
       "            </tr>\n",
       "            <tr>\n",
       "                        <th id=\"T_4c33d_level0_row4\" class=\"row_heading level0 row4\" >4</th>\n",
       "                        <td id=\"T_4c33d_row4_col0\" class=\"data row4 col0\" >5.000000</td>\n",
       "                        <td id=\"T_4c33d_row4_col1\" class=\"data row4 col1\" >3.600000</td>\n",
       "                        <td id=\"T_4c33d_row4_col2\" class=\"data row4 col2\" >1.400000</td>\n",
       "                        <td id=\"T_4c33d_row4_col3\" class=\"data row4 col3\" >0.200000</td>\n",
       "                        <td id=\"T_4c33d_row4_col4\" class=\"data row4 col4\" >setosa</td>\n",
       "            </tr>\n",
       "    </tbody></table>"
      ],
      "text/plain": [
       "<pandas.io.formats.style.Styler at 0x7f98d6cacfa0>"
      ]
     },
     "execution_count": 9,
     "metadata": {},
     "output_type": "execute_result"
    }
   ],
   "source": [
    "css = 'background-color: red; color: black'\n",
    "df[:5].colorizer.style_if('sepal_length', lambda x: x>4.7, css)"
   ]
  },
  {
   "cell_type": "markdown",
   "metadata": {},
   "source": [
    "That's all for now. Have fun coloring your dataframes quickly with ColorPandas and let us know what you think!"
   ]
  }
 ],
 "metadata": {
  "interpreter": {
   "hash": "472d89dda9aa379373bfadd96deaf3823416ee180641f3603cf8cfee6f348cbc"
  },
  "kernelspec": {
   "display_name": "Python 3",
   "language": "python",
   "name": "python3"
  },
  "language_info": {
   "codemirror_mode": {
    "name": "ipython",
    "version": 3
   },
   "file_extension": ".py",
   "mimetype": "text/x-python",
   "name": "python",
   "nbconvert_exporter": "python",
   "pygments_lexer": "ipython3",
   "version": "3.9.4"
  }
 },
 "nbformat": 4,
 "nbformat_minor": 2
}
